{
 "cells": [
  {
   "cell_type": "code",
   "execution_count": 1,
   "id": "9bce8f01",
   "metadata": {},
   "outputs": [],
   "source": [
    "name=[\"ola\",\"tolu\",\"sola\",\"tunji\"]"
   ]
  },
  {
   "cell_type": "code",
   "execution_count": 3,
   "id": "c384d4ba",
   "metadata": {},
   "outputs": [
    {
     "data": {
      "text/plain": [
       "['Ola', 'Tolu', 'Sola', 'Tunji']"
      ]
     },
     "execution_count": 3,
     "metadata": {},
     "output_type": "execute_result"
    }
   ],
   "source": [
    "list(map(lambda x: x.capitalize(),name))"
   ]
  },
  {
   "cell_type": "code",
   "execution_count": null,
   "id": "f7f53b7b",
   "metadata": {},
   "outputs": [],
   "source": []
  }
 ],
 "metadata": {
  "kernelspec": {
   "display_name": "Python 3 (ipykernel)",
   "language": "python",
   "name": "python3"
  },
  "language_info": {
   "codemirror_mode": {
    "name": "ipython",
    "version": 3
   },
   "file_extension": ".py",
   "mimetype": "text/x-python",
   "name": "python",
   "nbconvert_exporter": "python",
   "pygments_lexer": "ipython3",
   "version": "3.11.5"
  }
 },
 "nbformat": 4,
 "nbformat_minor": 5
}
